{
  "nbformat": 4,
  "nbformat_minor": 0,
  "metadata": {
    "colab": {
      "provenance": []
    },
    "kernelspec": {
      "name": "python3",
      "display_name": "Python 3"
    },
    "language_info": {
      "name": "python"
    }
  },
  "cells": [
    {
      "cell_type": "code",
      "source": [
        "import numpy as np\n",
        "import matplotlib.pyplot as plt\n",
        "import tensorflow as tf\n",
        "from tensorflow import keras\n",
        "tf.random.set_seed(42)\n",
        "from sklearn.gaussian_process import GaussianProcessRegressor\n",
        "from sklearn.gaussian_process.kernels import RBF\n",
        "from tqdm import tqdm\n",
        "from scipy.integrate import solve_ivp"
      ],
      "metadata": {
        "id": "_JK2dmAGkfrZ"
      },
      "execution_count": null,
      "outputs": []
    },
    {
      "cell_type": "code",
      "execution_count": null,
      "metadata": {
        "id": "HqYmE3nYkP5X"
      },
      "outputs": [],
      "source": [
        "from sklearn.gaussian_process import GaussianProcessRegressor\n",
        "from sklearn.gaussian_process.kernels import RBF\n",
        "\n",
        "def create_samples(length_scale, sample_num):\n",
        "\n",
        "\n",
        "    # Define kernel with given length scale\n",
        "    kernel = RBF(length_scale)\n",
        "\n",
        "    # Create Gaussian process regressor\n",
        "    gp = GaussianProcessRegressor(kernel=kernel)\n",
        "\n",
        "    # Collocation point locations\n",
        "    X_sample = np.linspace(0, 1, 100).reshape(-1, 1)\n",
        "\n",
        "    # Create samples\n",
        "    u_sample = np.zeros((sample_num, 100)) # <=======================================================================================================\n",
        "    for i in range(sample_num):\n",
        "        # sampling from the prior directly\n",
        "        n = np.random.randint(0, 10000)\n",
        "        u_sample[i, :] = gp.sample_y(X_sample, random_state=n).flatten()\n",
        "\n",
        "    return u_sample"
      ]
    },
    {
      "cell_type": "code",
      "source": [
        "X_sample = np.linspace(0, 1, 100).reshape(-1, 1)\n",
        "X_sample.flatten()"
      ],
      "metadata": {
        "id": "CG54RVsklC3J",
        "colab": {
          "base_uri": "https://localhost:8080/"
        },
        "outputId": "639433e0-0ed4-47e3-c4b3-eef8db720f84"
      },
      "execution_count": null,
      "outputs": [
        {
          "output_type": "execute_result",
          "data": {
            "text/plain": [
              "array([0.        , 0.01010101, 0.02020202, 0.03030303, 0.04040404,\n",
              "       0.05050505, 0.06060606, 0.07070707, 0.08080808, 0.09090909,\n",
              "       0.1010101 , 0.11111111, 0.12121212, 0.13131313, 0.14141414,\n",
              "       0.15151515, 0.16161616, 0.17171717, 0.18181818, 0.19191919,\n",
              "       0.2020202 , 0.21212121, 0.22222222, 0.23232323, 0.24242424,\n",
              "       0.25252525, 0.26262626, 0.27272727, 0.28282828, 0.29292929,\n",
              "       0.3030303 , 0.31313131, 0.32323232, 0.33333333, 0.34343434,\n",
              "       0.35353535, 0.36363636, 0.37373737, 0.38383838, 0.39393939,\n",
              "       0.4040404 , 0.41414141, 0.42424242, 0.43434343, 0.44444444,\n",
              "       0.45454545, 0.46464646, 0.47474747, 0.48484848, 0.49494949,\n",
              "       0.50505051, 0.51515152, 0.52525253, 0.53535354, 0.54545455,\n",
              "       0.55555556, 0.56565657, 0.57575758, 0.58585859, 0.5959596 ,\n",
              "       0.60606061, 0.61616162, 0.62626263, 0.63636364, 0.64646465,\n",
              "       0.65656566, 0.66666667, 0.67676768, 0.68686869, 0.6969697 ,\n",
              "       0.70707071, 0.71717172, 0.72727273, 0.73737374, 0.74747475,\n",
              "       0.75757576, 0.76767677, 0.77777778, 0.78787879, 0.7979798 ,\n",
              "       0.80808081, 0.81818182, 0.82828283, 0.83838384, 0.84848485,\n",
              "       0.85858586, 0.86868687, 0.87878788, 0.88888889, 0.8989899 ,\n",
              "       0.90909091, 0.91919192, 0.92929293, 0.93939394, 0.94949495,\n",
              "       0.95959596, 0.96969697, 0.97979798, 0.98989899, 1.        ])"
            ]
          },
          "metadata": {},
          "execution_count": 22
        }
      ]
    },
    {
      "cell_type": "code",
      "source": [
        "type(X_sample)"
      ],
      "metadata": {
        "colab": {
          "base_uri": "https://localhost:8080/"
        },
        "id": "jM4AoIFs7Gvx",
        "outputId": "8fc92f58-3261-44ed-ed93-ced94cbd0a3b"
      },
      "execution_count": null,
      "outputs": [
        {
          "output_type": "execute_result",
          "data": {
            "text/plain": [
              "numpy.ndarray"
            ]
          },
          "metadata": {},
          "execution_count": 5
        }
      ]
    },
    {
      "cell_type": "code",
      "source": [
        "u_sample = np.zeros((2000, 100))\n",
        "#N=2000=sample_num"
      ],
      "metadata": {
        "id": "iaVDEXM4mS2H"
      },
      "execution_count": null,
      "outputs": []
    },
    {
      "cell_type": "code",
      "source": [
        "u_sample.shape"
      ],
      "metadata": {
        "colab": {
          "base_uri": "https://localhost:8080/"
        },
        "id": "fU5y5GTHkgmQ",
        "outputId": "12c45ba5-dec8-4cd4-ff92-3264eca12ca5"
      },
      "execution_count": null,
      "outputs": [
        {
          "output_type": "execute_result",
          "data": {
            "text/plain": [
              "(2000, 100)"
            ]
          },
          "metadata": {},
          "execution_count": 12
        }
      ]
    },
    {
      "cell_type": "code",
      "source": [
        "random_field = create_samples(0.4, 2000)"
      ],
      "metadata": {
        "id": "gwb6fVOTI3ha"
      },
      "execution_count": null,
      "outputs": []
    },
    {
      "cell_type": "code",
      "source": [
        "from tqdm import tqdm\n",
        "from scipy.integrate import solve_ivp\n",
        "\n",
        "def generate_dataset(N, length_scale, ODE_solve=False):\n",
        "\n",
        "    # Create random fields\n",
        "    random_field = create_samples(length_scale, N)#random field is our u_sample here\n",
        "\n",
        "    # Compile dataset\n",
        "    X = np.zeros((N*100, 100+2))\n",
        "    y = np.zeros((N*100, 1))\n",
        "\n",
        "    for i in tqdm(range(N)):\n",
        "        u = np.tile(random_field[i, :], (100, 1))\n",
        "        t = np.linspace(0, 1, 100).reshape(-1, 1)\n",
        "\n",
        "        # u(·) evaluated at t\n",
        "        u_t = np.diag(u).reshape(-1, 1)\n",
        "\n",
        "        # Update overall matrix\n",
        "        X[i*100:(i+1)*100, :] = np.concatenate((t, u, u_t), axis=1)\n",
        "\n",
        "        # Solve ODE\n",
        "        if ODE_solve:\n",
        "            sol = solve_ivp(lambda var_t, var_s: np.interp(var_t, t.flatten(), random_field[i, :]),\n",
        "                            t_span=[0, 1], y0=[0], t_eval=t.flatten(), method='RK45')\n",
        "            y[i*100:(i+1)*100, :] = sol.y[0].reshape(-1, 1)\n",
        "\n",
        "    return X, y"
      ],
      "metadata": {
        "id": "gZVskmQ_kRl7"
      },
      "execution_count": null,
      "outputs": []
    },
    {
      "cell_type": "code",
      "source": [
        "random_field[0, :]"
      ],
      "metadata": {
        "id": "4R9r032YI8tW"
      },
      "execution_count": null,
      "outputs": []
    },
    {
      "cell_type": "code",
      "source": [
        "t = np.linspace(0, 1, 100).reshape(-1, 1)\n",
        "t.shape"
      ],
      "metadata": {
        "colab": {
          "base_uri": "https://localhost:8080/"
        },
        "id": "0GMo4zlX_Lbh",
        "outputId": "61cf8e79-9657-41f0-f62c-ecafcb5335c5"
      },
      "execution_count": null,
      "outputs": [
        {
          "output_type": "execute_result",
          "data": {
            "text/plain": [
              "(100, 1)"
            ]
          },
          "metadata": {},
          "execution_count": 17
        }
      ]
    },
    {
      "cell_type": "code",
      "source": [
        "t.flatten()"
      ],
      "metadata": {
        "colab": {
          "base_uri": "https://localhost:8080/"
        },
        "id": "7KQQB1nNBSKd",
        "outputId": "f192ee67-e171-4eca-edf6-ff117385f137"
      },
      "execution_count": null,
      "outputs": [
        {
          "output_type": "execute_result",
          "data": {
            "text/plain": [
              "array([0.        , 0.01010101, 0.02020202, 0.03030303, 0.04040404,\n",
              "       0.05050505, 0.06060606, 0.07070707, 0.08080808, 0.09090909,\n",
              "       0.1010101 , 0.11111111, 0.12121212, 0.13131313, 0.14141414,\n",
              "       0.15151515, 0.16161616, 0.17171717, 0.18181818, 0.19191919,\n",
              "       0.2020202 , 0.21212121, 0.22222222, 0.23232323, 0.24242424,\n",
              "       0.25252525, 0.26262626, 0.27272727, 0.28282828, 0.29292929,\n",
              "       0.3030303 , 0.31313131, 0.32323232, 0.33333333, 0.34343434,\n",
              "       0.35353535, 0.36363636, 0.37373737, 0.38383838, 0.39393939,\n",
              "       0.4040404 , 0.41414141, 0.42424242, 0.43434343, 0.44444444,\n",
              "       0.45454545, 0.46464646, 0.47474747, 0.48484848, 0.49494949,\n",
              "       0.50505051, 0.51515152, 0.52525253, 0.53535354, 0.54545455,\n",
              "       0.55555556, 0.56565657, 0.57575758, 0.58585859, 0.5959596 ,\n",
              "       0.60606061, 0.61616162, 0.62626263, 0.63636364, 0.64646465,\n",
              "       0.65656566, 0.66666667, 0.67676768, 0.68686869, 0.6969697 ,\n",
              "       0.70707071, 0.71717172, 0.72727273, 0.73737374, 0.74747475,\n",
              "       0.75757576, 0.76767677, 0.77777778, 0.78787879, 0.7979798 ,\n",
              "       0.80808081, 0.81818182, 0.82828283, 0.83838384, 0.84848485,\n",
              "       0.85858586, 0.86868687, 0.87878788, 0.88888889, 0.8989899 ,\n",
              "       0.90909091, 0.91919192, 0.92929293, 0.93939394, 0.94949495,\n",
              "       0.95959596, 0.96969697, 0.97979798, 0.98989899, 1.        ])"
            ]
          },
          "metadata": {},
          "execution_count": 11
        }
      ]
    },
    {
      "cell_type": "code",
      "source": [
        "ss = np.tile(random_field[0, :], (100, 1))\n",
        "ss"
      ],
      "metadata": {
        "id": "PXcpQuqpT65X"
      },
      "execution_count": null,
      "outputs": []
    },
    {
      "cell_type": "code",
      "source": [
        "# Create training dataset\n",
        "N_train = 2000\n",
        "length_scale_train = 0.4\n",
        "X_train, y_train = generate_dataset(N_train, length_scale_train)\n",
        "\n",
        "# Create validation dataset\n",
        "N_val = 100\n",
        "length_scale_test = 0.4\n",
        "length_scale_test = 0.4\n",
        "X_val, y_val = generate_dataset(N_val, length_scale_test)\n",
        "\n",
        "# Create testing dataset\n",
        "N_test = 100\n",
        "length_scale_test = 0.4\n",
        "X_test, y_test = generate_dataset(N_test, length_scale_test, ODE_solve=True)"
      ],
      "metadata": {
        "id": "gdDeN_AmkVUh"
      },
      "execution_count": null,
      "outputs": []
    },
    {
      "cell_type": "code",
      "source": [
        "type(X_train)"
      ],
      "metadata": {
        "colab": {
          "base_uri": "https://localhost:8080/"
        },
        "id": "oKVM6pQYkYhJ",
        "outputId": "88053528-1e25-4458-d6b4-5cb02a86186f"
      },
      "execution_count": null,
      "outputs": [
        {
          "output_type": "execute_result",
          "data": {
            "text/plain": [
              "numpy.ndarray"
            ]
          },
          "metadata": {},
          "execution_count": 5
        }
      ]
    },
    {
      "cell_type": "code",
      "source": [
        "X_train.shape"
      ],
      "metadata": {
        "colab": {
          "base_uri": "https://localhost:8080/"
        },
        "id": "frCGpGuAkxZd",
        "outputId": "2b07a7fa-e49e-4429-d024-69b9e805a847"
      },
      "execution_count": null,
      "outputs": [
        {
          "output_type": "execute_result",
          "data": {
            "text/plain": [
              "(200000, 102)"
            ]
          },
          "metadata": {},
          "execution_count": 6
        }
      ]
    }
  ]
}